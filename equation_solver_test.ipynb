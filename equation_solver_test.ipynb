{
 "cells": [
  {
   "cell_type": "markdown",
   "id": "fcad6dea",
   "metadata": {},
   "source": [
    "# 🔬 Equation Solver Test Notebook\n",
    "This notebook tests the `equation_solver.py` script by:\n",
    "1. Loading required libraries\n",
    "2. Importing `DataProcessor` and `equation_solver`\n",
    "3. Processing stored scan rate data\n",
    "4. Performing polynomial fitting and solving for k1, k2\n",
    "5. Visualizing fitted vs actual curves\n"
   ]
  },
  {
   "cell_type": "code",
   "execution_count": 2,
   "id": "440f5da6",
   "metadata": {},
   "outputs": [],
   "source": [
    "# ✅ Load Required Libraries\n",
    "import numpy as np\n",
    "import pandas as pd\n",
    "import matplotlib.pyplot as plt\n",
    "from data_processor import DataProcessor\n",
    "from equation_solver import solve_k1_k2, fit_polynomial_curve, plot_fitted_curve"
   ]
  },
  {
   "cell_type": "code",
   "execution_count": 3,
   "id": "14dfa9e8",
   "metadata": {},
   "outputs": [
    {
     "name": "stdout",
     "output_type": "stream",
     "text": [
      "Loaded 0 scan rates.\n"
     ]
    }
   ],
   "source": [
    "# ✅ Initialize Data Processor\n",
    "data_processor = DataProcessor()\n",
    "scan_rates, anode_curves, cathode_curves = data_processor.get_processed_data()\n",
    "print(f\"Loaded {len(scan_rates)} scan rates.\")"
   ]
  },
  {
   "cell_type": "code",
   "execution_count": null,
   "id": "7b1999eb",
   "metadata": {},
   "outputs": [],
   "source": [
    "# ✅ Verify Data Extraction\n",
    "for i, scan_rate in enumerate(scan_rates):\n",
    "    print(f\"Scan Rate: {scan_rate} | Anode Data Points: {len(anode_curves[i])} | Cathode Data Points: {len(cathode_curves[i])}\")"
   ]
  },
  {
   "cell_type": "code",
   "execution_count": null,
   "id": "8ad11403",
   "metadata": {},
   "outputs": [],
   "source": [
    "# ✅ Polynomial Curve Fitting Test\n",
    "degree = 5  # Change polynomial degree if needed\n",
    "target_voltage = 0.6\n",
    "\n",
    "for i, scan_rate in enumerate(scan_rates):\n",
    "    anode_poly, anode_voltage, anode_actual = fit_polynomial_curve(anode_curves[i], degree)\n",
    "    cathode_poly, cathode_voltage, cathode_actual = fit_polynomial_curve(cathode_curves[i], degree)\n",
    "\n",
    "    plot_fitted_curve(anode_voltage, anode_actual, anode_poly, f\"Anode Fit - Scan Rate {scan_rate}\")\n",
    "    plot_fitted_curve(cathode_voltage, cathode_actual, cathode_poly, f\"Cathode Fit - Scan Rate {scan_rate}\")"
   ]
  },
  {
   "cell_type": "code",
   "execution_count": null,
   "id": "3e0f0523",
   "metadata": {},
   "outputs": [],
   "source": [
    "# ✅ Solve for k1 and k2\n",
    "k_values = solve_k1_k2(scan_rates, anode_curves, cathode_curves, target_voltage, degree)\n",
    "print(\"\\nFinal Computed Values:\")\n",
    "print(\"Anode k1:\", k_values[\"anode\"][\"k1\"], \"k2:\", k_values[\"anode\"][\"k2\"])\n",
    "print(\"Cathode k1:\", k_values[\"cathode\"][\"k1\"], \"k2:\", k_values[\"cathode\"][\"k2\"])"
   ]
  }
 ],
 "metadata": {
  "kernelspec": {
   "display_name": "Python 3",
   "language": "python",
   "name": "python3"
  },
  "language_info": {
   "codemirror_mode": {
    "name": "ipython",
    "version": 3
   },
   "file_extension": ".py",
   "mimetype": "text/x-python",
   "name": "python",
   "nbconvert_exporter": "python",
   "pygments_lexer": "ipython3",
   "version": "3.10.11"
  }
 },
 "nbformat": 4,
 "nbformat_minor": 5
}
